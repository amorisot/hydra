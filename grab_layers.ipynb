{
 "cells": [
  {
   "cell_type": "code",
   "execution_count": 1,
   "metadata": {},
   "outputs": [
    {
     "name": "stdout",
     "output_type": "stream",
     "text": [
      "this is a normal vgg\n",
      "this is a normal resnet\n",
      "this is a normal shufflenet v2\n",
      "this is a normal densenet\n",
      "this is a hydra vgg\n",
      "this is a hydra resnet\n",
      "this is a hydra shufflenet v2\n",
      "this is a hydra densenet\n"
     ]
    }
   ],
   "source": [
    "from models import *\n",
    "\n",
    "models = {'vgg': VGG('VGG16mod'), 'resnet18': ResNet18(), \n",
    "          'shufflenet': ShuffleNetV2(1), 'densenet121': DenseNet121()}\n",
    "\n",
    "from models2 import *\n",
    "\n",
    "models_hydra = {'vgg': VGG('VGG16mod'), 'resnet18': ResNet18(), \n",
    "          'shufflenet': ShuffleNetV2(1), 'densenet121': DenseNet121()}"
   ]
  },
  {
   "cell_type": "code",
   "execution_count": 5,
   "metadata": {},
   "outputs": [
    {
     "data": {
      "text/plain": [
       "True"
      ]
     },
     "execution_count": 5,
     "metadata": {},
     "output_type": "execute_result"
    }
   ],
   "source": [
    "list(models.keys()) == list(models_hydra.keys())"
   ]
  },
  {
   "cell_type": "code",
   "execution_count": null,
   "metadata": {},
   "outputs": [],
   "source": []
  }
 ],
 "metadata": {
  "kernelspec": {
   "display_name": "Python 3",
   "language": "python",
   "name": "python3"
  },
  "language_info": {
   "codemirror_mode": {
    "name": "ipython",
    "version": 3
   },
   "file_extension": ".py",
   "mimetype": "text/x-python",
   "name": "python",
   "nbconvert_exporter": "python",
   "pygments_lexer": "ipython3",
   "version": "3.6.1"
  }
 },
 "nbformat": 4,
 "nbformat_minor": 2
}
